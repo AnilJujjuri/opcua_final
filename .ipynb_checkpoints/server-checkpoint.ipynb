{
 "cells": [
  {
   "cell_type": "code",
   "execution_count": 2,
   "id": "ef8ade88",
   "metadata": {},
   "outputs": [
    {
     "name": "stdout",
     "output_type": "stream",
     "text": [
      "Collecting opcua\n",
      "  Downloading opcua-0.98.13.tar.gz (572 kB)\n",
      "     -------------------------------------- 572.8/572.8 kB 2.4 MB/s eta 0:00:00\n",
      "  Preparing metadata (setup.py): started\n",
      "  Preparing metadata (setup.py): finished with status 'done'\n",
      "Requirement already satisfied: lxml in c:\\users\\40027782\\anaconda3\\lib\\site-packages (from opcua) (4.9.1)\n",
      "Requirement already satisfied: python-dateutil in c:\\users\\40027782\\anaconda3\\lib\\site-packages (from opcua) (2.8.2)\n",
      "Requirement already satisfied: pytz in c:\\users\\40027782\\anaconda3\\lib\\site-packages (from opcua) (2022.1)\n",
      "Requirement already satisfied: six>=1.5 in c:\\users\\40027782\\anaconda3\\lib\\site-packages (from python-dateutil->opcua) (1.16.0)\n",
      "Building wheels for collected packages: opcua\n",
      "  Building wheel for opcua (setup.py): started\n",
      "  Building wheel for opcua (setup.py): finished with status 'done'\n",
      "  Created wheel for opcua: filename=opcua-0.98.13-py3-none-any.whl size=628133 sha256=ec0df0929fa2cb97648e21a14d294ae8d17ce6469f0f2e844bae6a13ec2e870a\n",
      "  Stored in directory: c:\\users\\40027782\\appdata\\local\\pip\\cache\\wheels\\f7\\08\\b8\\3de089aa34284ac9970ba9118586aae9e887c07975a21da453\n",
      "Successfully built opcua\n",
      "Installing collected packages: opcua\n",
      "Successfully installed opcua-0.98.13\n",
      "Note: you may need to restart the kernel to use updated packages.\n"
     ]
    }
   ],
   "source": [
    "pip install opcua\n"
   ]
  },
  {
   "cell_type": "code",
   "execution_count": 3,
   "id": "ae99fa7d",
   "metadata": {},
   "outputs": [
    {
     "name": "stdout",
     "output_type": "stream",
     "text": [
      "Collecting opcua-client\n",
      "  Downloading opcua_client-0.8.4-py3-none-any.whl (57 kB)\n",
      "     -------------------------------------- 57.2/57.2 kB 999.5 kB/s eta 0:00:00\n",
      "Collecting asyncua\n",
      "  Downloading asyncua-1.0.1-py3-none-any.whl (748 kB)\n",
      "     -------------------------------------- 748.4/748.4 kB 2.8 MB/s eta 0:00:00\n",
      "Collecting PyQt5\n",
      "  Downloading PyQt5-5.15.9-cp37-abi3-win_amd64.whl (6.8 MB)\n",
      "     ---------------------------------------- 6.8/6.8 MB 9.9 MB/s eta 0:00:00\n",
      "Collecting opcua-widgets>=0.6.0\n",
      "  Downloading opcua_widgets-0.6.1-py3-none-any.whl (232 kB)\n",
      "     -------------------------------------- 232.1/232.1 kB 1.4 MB/s eta 0:00:00\n",
      "Requirement already satisfied: pytz in c:\\users\\40027782\\anaconda3\\lib\\site-packages (from asyncua->opcua-client) (2022.1)\n",
      "Requirement already satisfied: cryptography in c:\\users\\40027782\\anaconda3\\lib\\site-packages (from asyncua->opcua-client) (37.0.1)\n",
      "Requirement already satisfied: python-dateutil in c:\\users\\40027782\\anaconda3\\lib\\site-packages (from asyncua->opcua-client) (2.8.2)\n",
      "Collecting aiosqlite\n",
      "  Downloading aiosqlite-0.18.0-py3-none-any.whl (15 kB)\n",
      "Collecting aiofiles\n",
      "  Downloading aiofiles-23.1.0-py3-none-any.whl (14 kB)\n",
      "Requirement already satisfied: sortedcontainers in c:\\users\\40027782\\anaconda3\\lib\\site-packages (from asyncua->opcua-client) (2.4.0)\n",
      "Collecting PyQt5-Qt5>=5.15.2\n",
      "  Downloading PyQt5_Qt5-5.15.2-py3-none-win_amd64.whl (50.1 MB)\n",
      "     ---------------------------------------- 50.1/50.1 MB 9.8 MB/s eta 0:00:00\n",
      "Collecting PyQt5-sip<13,>=12.11\n",
      "  Downloading PyQt5_sip-12.11.1-cp39-cp39-win_amd64.whl (78 kB)\n",
      "     ---------------------------------------- 78.4/78.4 kB 4.3 MB/s eta 0:00:00\n",
      "Requirement already satisfied: cffi>=1.12 in c:\\users\\40027782\\anaconda3\\lib\\site-packages (from cryptography->asyncua->opcua-client) (1.15.1)\n",
      "Requirement already satisfied: six>=1.5 in c:\\users\\40027782\\anaconda3\\lib\\site-packages (from python-dateutil->asyncua->opcua-client) (1.16.0)\n",
      "Requirement already satisfied: pycparser in c:\\users\\40027782\\anaconda3\\lib\\site-packages (from cffi>=1.12->cryptography->asyncua->opcua-client) (2.21)\n",
      "Installing collected packages: PyQt5-Qt5, PyQt5-sip, aiosqlite, aiofiles, PyQt5, asyncua, opcua-widgets, opcua-client\n",
      "Successfully installed PyQt5-5.15.9 PyQt5-Qt5-5.15.2 PyQt5-sip-12.11.1 aiofiles-23.1.0 aiosqlite-0.18.0 asyncua-1.0.1 opcua-client-0.8.4 opcua-widgets-0.6.1\n",
      "Note: you may need to restart the kernel to use updated packages.\n"
     ]
    },
    {
     "name": "stderr",
     "output_type": "stream",
     "text": [
      "ERROR: pip's dependency resolver does not currently take into account all the packages that are installed. This behaviour is the source of the following dependency conflicts.\n",
      "spyder 5.2.2 requires pyqtwebengine<5.13, which is not installed.\n",
      "spyder 5.2.2 requires pyqt5<5.13, but you have pyqt5 5.15.9 which is incompatible.\n"
     ]
    }
   ],
   "source": [
    "pip install opcua-client\n"
   ]
  },
  {
   "cell_type": "code",
   "execution_count": 4,
   "id": "635f0181",
   "metadata": {},
   "outputs": [
    {
     "name": "stdout",
     "output_type": "stream",
     "text": [
      "Collecting opcua-webclient\n",
      "  Downloading opcua-webclient-1.0.0.tar.gz (91 kB)\n",
      "     -------------------------------------- 91.1/91.1 kB 647.1 kB/s eta 0:00:00\n",
      "  Preparing metadata (setup.py): started\n",
      "  Preparing metadata (setup.py): finished with status 'done'\n",
      "Requirement already satisfied: tornado in c:\\users\\40027782\\anaconda3\\lib\\site-packages (from opcua-webclient) (6.1)\n",
      "Collecting freeopcua\n",
      "  Downloading freeopcua-0.90.6.tar.gz (833 bytes)\n",
      "  Preparing metadata (setup.py): started\n",
      "  Preparing metadata (setup.py): finished with status 'done'\n",
      "Requirement already satisfied: opcua in c:\\users\\40027782\\anaconda3\\lib\\site-packages (from freeopcua->opcua-webclient) (0.98.13)\n",
      "Requirement already satisfied: pytz in c:\\users\\40027782\\anaconda3\\lib\\site-packages (from opcua->freeopcua->opcua-webclient) (2022.1)\n",
      "Requirement already satisfied: python-dateutil in c:\\users\\40027782\\anaconda3\\lib\\site-packages (from opcua->freeopcua->opcua-webclient) (2.8.2)\n",
      "Requirement already satisfied: lxml in c:\\users\\40027782\\anaconda3\\lib\\site-packages (from opcua->freeopcua->opcua-webclient) (4.9.1)\n",
      "Requirement already satisfied: six>=1.5 in c:\\users\\40027782\\anaconda3\\lib\\site-packages (from python-dateutil->opcua->freeopcua->opcua-webclient) (1.16.0)\n",
      "Building wheels for collected packages: opcua-webclient, freeopcua\n",
      "  Building wheel for opcua-webclient (setup.py): started\n",
      "  Building wheel for opcua-webclient (setup.py): finished with status 'done'\n",
      "  Created wheel for opcua-webclient: filename=opcua_webclient-1.0.0-py3-none-any.whl size=95671 sha256=de0706bac6df2c00e56463f014dd4a4b17a55feb301d4d513a457a1d48ff95a8\n",
      "  Stored in directory: c:\\users\\40027782\\appdata\\local\\pip\\cache\\wheels\\8b\\db\\05\\3c8bc7b4b33d7622894d0c50580bdd02001eed01a41e250082\n",
      "  Building wheel for freeopcua (setup.py): started\n",
      "  Building wheel for freeopcua (setup.py): finished with status 'done'\n",
      "  Created wheel for freeopcua: filename=freeopcua-0.90.6-py3-none-any.whl size=1127 sha256=595adf299200691a9f1595660b5db4215f95ef4a978886b79e84d5f1728d2f41\n",
      "  Stored in directory: c:\\users\\40027782\\appdata\\local\\pip\\cache\\wheels\\91\\b9\\c0\\0541cf9f9ea3d605c76cf77724d570efb02186020d1965821f\n",
      "Successfully built opcua-webclient freeopcua\n",
      "Installing collected packages: freeopcua, opcua-webclient\n",
      "Successfully installed freeopcua-0.90.6 opcua-webclient-1.0.0\n",
      "Note: you may need to restart the kernel to use updated packages.\n"
     ]
    }
   ],
   "source": [
    "pip install opcua-webclient"
   ]
  },
  {
   "cell_type": "code",
   "execution_count": null,
   "id": "b0b5c745",
   "metadata": {},
   "outputs": [
    {
     "name": "stderr",
     "output_type": "stream",
     "text": [
      "Endpoints other than open requested but private key and certificate are not set.\n",
      "Listening on 127.0.0.1:4840\n"
     ]
    }
   ],
   "source": [
    "import sys\n",
    "sys.path.insert(0, \"..\")\n",
    "import time\n",
    "from opcua import ua, Server\n",
    "\n",
    "if __name__ == \"__main__\":\n",
    "\n",
    "    # setup our server\n",
    "    server = Server()\n",
    "    server.set_endpoint(\"opc.tcp://127.0.0.1:4840/freeopcua/server/\")\n",
    "\n",
    "    # setup our own namespace, not really necessary but should as spec\n",
    "    uri = \"http://examples.freeopcua.github.io\"\n",
    "    idx = server.register_namespace(uri)\n",
    "\n",
    "    # get Objects node, this is where we should put our nodes\n",
    "    objects = server.get_objects_node()\n",
    "\n",
    "    # populating our address space\n",
    "    myobj = objects.add_object(idx, \"MyObject\")\n",
    "    myvar = myobj.add_variable(idx, \"MyVariable\", 6.7)\n",
    "    myvar.set_writable()    # Set MyVariable to be writable by clients\n",
    "\n",
    "    # starting!\n",
    "    server.start()\n",
    "\n",
    "    try:\n",
    "        count = 0\n",
    "        while True:\n",
    "            time.sleep(1)\n",
    "            count += 0.1\n",
    "            myvar.set_value(count)\n",
    "    finally:\n",
    "        #close connection, remove subscriptions, etc\n",
    "        server.stop()"
   ]
  },
  {
   "cell_type": "code",
   "execution_count": null,
   "id": "6abf0d53",
   "metadata": {},
   "outputs": [],
   "source": []
  },
  {
   "cell_type": "code",
   "execution_count": null,
   "id": "ea5168ca",
   "metadata": {},
   "outputs": [],
   "source": [
    "opcua-webclient 127.0.0.1:8080\n"
   ]
  },
  {
   "cell_type": "code",
   "execution_count": null,
   "id": "ca980c6e",
   "metadata": {},
   "outputs": [],
   "source": []
  }
 ],
 "metadata": {
  "kernelspec": {
   "display_name": "Python 3 (ipykernel)",
   "language": "python",
   "name": "python3"
  },
  "language_info": {
   "codemirror_mode": {
    "name": "ipython",
    "version": 3
   },
   "file_extension": ".py",
   "mimetype": "text/x-python",
   "name": "python",
   "nbconvert_exporter": "python",
   "pygments_lexer": "ipython3",
   "version": "3.9.13"
  }
 },
 "nbformat": 4,
 "nbformat_minor": 5
}
