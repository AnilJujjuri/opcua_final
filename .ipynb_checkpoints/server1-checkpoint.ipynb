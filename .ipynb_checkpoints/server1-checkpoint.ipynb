{
 "cells": [
  {
   "cell_type": "code",
   "execution_count": null,
   "id": "01746337",
   "metadata": {},
   "outputs": [],
   "source": [
    "import time\n",
    "from opcua import ua, Server\n",
    "from fastapi import FastAPI\n",
    "\n",
    "app = FastAPI()\n",
    "server = Server()\n",
    "\n",
    "# setup our own namespace, not really necessary but should as spec\n",
    "uri = \"http://examples.freeopcua.github.io\"\n",
    "idx = server.register_namespace(uri)\n",
    "\n",
    "# get Objects node, this is where we should put our nodes\n",
    "objects = server.get_objects_node()\n",
    "\n",
    "# populating our address space\n",
    "myobj = objects.add_object(idx, \"MyObject\")\n",
    "myvar = myobj.add_variable(idx, \"MyVariable\", 6.7)\n",
    "myvar.set_writable() # Set MyVariable to be writable by clients\n",
    "\n",
    "# starting server\n",
    "server.start()\n",
    "\n",
    "@app.get(\"/\")\n",
    "def read_root():\n",
    "return {\"Hello\": \"World\"}\n",
    "\n",
    "@app.get(\"/get_variable\")\n",
    "def read_variable():\n",
    "return {\"value\": myvar.get_value()}\n",
    "\n",
    "@app.put(\"/set_variable\")\n",
    "def write_variable(value: float):\n",
    "myvar.set_value(value)\n",
    "return {\"success\": True}\n",
    "\n",
    "@app.on_event(\"shutdown\")\n",
    "def shutdown_event():\n",
    "server.stop()"
   ]
  }
 ],
 "metadata": {
  "kernelspec": {
   "display_name": "Python 3 (ipykernel)",
   "language": "python",
   "name": "python3"
  },
  "language_info": {
   "codemirror_mode": {
    "name": "ipython",
    "version": 3
   },
   "file_extension": ".py",
   "mimetype": "text/x-python",
   "name": "python",
   "nbconvert_exporter": "python",
   "pygments_lexer": "ipython3",
   "version": "3.9.13"
  }
 },
 "nbformat": 4,
 "nbformat_minor": 5
}
